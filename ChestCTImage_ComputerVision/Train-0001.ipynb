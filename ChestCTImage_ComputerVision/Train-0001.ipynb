{
 "cells": [
  {
   "cell_type": "code",
   "execution_count": 16,
   "id": "c1e94540",
   "metadata": {},
   "outputs": [],
   "source": [
    "#Libaries\n",
    "import tensorflow as tf\n",
    "from tensorflow import keras\n",
    "from tensorflow.keras import layers\n",
    "from tensorflow.keras.applications import Xception\n",
    "import matplotlib.pyplot as plt\n"
   ]
  },
  {
   "cell_type": "code",
   "execution_count": 6,
   "id": "7c3bde2f",
   "metadata": {},
   "outputs": [],
   "source": [
    "#Creating/Defining Data Loader\n",
    "\n",
    "def create_data_loader(train_dir, test_dir, valid_dir, image_size=(299, 299), batch_size=128, limit=100):\n",
    "    train_ds = keras.utils.image_dataset_from_directory(\n",
    "        train_dir,\n",
    "        image_size=image_size,\n",
    "        batch_size=batch_size,\n",
    "        seed=1337,\n",
    "    )\n",
    "\n",
    "    test_ds = keras.utils.image_dataset_from_directory(\n",
    "        test_dir,\n",
    "        image_size=image_size,\n",
    "        batch_size=batch_size,\n",
    "    )\n",
    "\n",
    "    valid_ds = keras.utils.image_dataset_from_directory(\n",
    "        valid_dir,\n",
    "        image_size=image_size,\n",
    "        batch_size=batch_size,\n",
    "        seed=1337,\n",
    "    )\n",
    "\n",
    "    if limit:\n",
    "        train_ds = train_ds.take(limit)\n",
    "        test_ds = test_ds.take(limit)\n",
    "\n",
    "    return train_ds, test_ds, valid_ds"
   ]
  },
  {
   "cell_type": "code",
   "execution_count": 12,
   "id": "9628e932",
   "metadata": {},
   "outputs": [],
   "source": [
    "#Creating/Defining Transfer Model & the architecture of the model\n",
    "\n",
    "def create_transfer_model(input_shape, num_classes):    \n",
    "    backbone = Xception(\n",
    "        weights=\"imagenet\",\n",
    "        include_top=False,\n",
    "        input_shape=input_shape,\n",
    "    )\n",
    "    backbone.trainable = False\n",
    "\n",
    "    \n",
    "#Architecture\n",
    "    \n",
    "    inputs = layers.Input(input_shape)\n",
    "    x = keras.applications.xception.preprocess_input(inputs)\n",
    "    x = backbone(x)\n",
    "    x = layers.Dropout(0.3)(x)\n",
    "    x = layers.GlobalAveragePooling2D()(x)\n",
    "    if num_classes == 2:\n",
    "        units = 1\n",
    "    else:\n",
    "        units = num_classes\n",
    "\n",
    "    x = layers.Dropout(0.25)(x)\n",
    "    outputs = layers.Dense(units, activation=None)(x)\n",
    "\n",
    "    return keras.Model(inputs, outputs, name=\"transfer_model\")"
   ]
  },
  {
   "cell_type": "code",
   "execution_count": 13,
   "id": "3060c877",
   "metadata": {},
   "outputs": [
    {
     "name": "stdout",
     "output_type": "stream",
     "text": [
      "Found 494 files belonging to 4 classes.\n",
      "Found 283 files belonging to 4 classes.\n",
      "Found 70 files belonging to 4 classes.\n"
     ]
    }
   ],
   "source": [
    "#Compiling model, creating checkpoints\n",
    "\n",
    "train_dir = 'Data/Train'\n",
    "test_dir = 'Data/Test'\n",
    "valid_dir = 'Data/Valid'\n",
    "\n",
    "train_ds, test_ds, valid_ds = create_data_loader(train_dir, test_dir, valid_dir, limit=100)\n",
    "\n",
    "checkpoint_path = \"model_checkpoint.keras\"\n",
    "checkpoint = keras.callbacks.ModelCheckpoint(checkpoint_path, \n",
    "                                             monitor='val_accuracy', \n",
    "                                             verbose=1, \n",
    "                                             save_best_only=True,\n",
    "                                             mode='max')\n",
    "\n",
    "input_shape = (299, 299, 3) \n",
    "num_classes = 4  \n",
    "model = create_transfer_model(input_shape, num_classes)\n",
    "model.compile(\n",
    "    optimizer=keras.optimizers.Adam(learning_rate=0.0001),\n",
    "    loss=keras.losses.SparseCategoricalCrossentropy(from_logits=True),\n",
    "    metrics=['accuracy']\n",
    ")\n"
   ]
  },
  {
   "cell_type": "code",
   "execution_count": 14,
   "id": "0de9e4ea",
   "metadata": {},
   "outputs": [
    {
     "name": "stdout",
     "output_type": "stream",
     "text": [
      "Epoch 1/10\n",
      "\u001b[1m4/4\u001b[0m \u001b[32m━━━━━━━━━━━━━━━━━━━━\u001b[0m\u001b[37m\u001b[0m \u001b[1m0s\u001b[0m 12s/step - accuracy: 0.2856 - loss: 1.4524 \n",
      "Epoch 1: val_accuracy improved from -inf to 0.18571, saving model to model_checkpoint.keras\n",
      "\u001b[1m4/4\u001b[0m \u001b[32m━━━━━━━━━━━━━━━━━━━━\u001b[0m\u001b[37m\u001b[0m \u001b[1m61s\u001b[0m 14s/step - accuracy: 0.2864 - loss: 1.4498 - val_accuracy: 0.1857 - val_loss: 1.4902\n",
      "Epoch 2/10\n",
      "\u001b[1m4/4\u001b[0m \u001b[32m━━━━━━━━━━━━━━━━━━━━\u001b[0m\u001b[37m\u001b[0m \u001b[1m0s\u001b[0m 11s/step - accuracy: 0.3452 - loss: 1.3887 \n",
      "Epoch 2: val_accuracy did not improve from 0.18571\n",
      "\u001b[1m4/4\u001b[0m \u001b[32m━━━━━━━━━━━━━━━━━━━━\u001b[0m\u001b[37m\u001b[0m \u001b[1m53s\u001b[0m 13s/step - accuracy: 0.3393 - loss: 1.3899 - val_accuracy: 0.1714 - val_loss: 1.4675\n",
      "Epoch 3/10\n",
      "\u001b[1m4/4\u001b[0m \u001b[32m━━━━━━━━━━━━━━━━━━━━\u001b[0m\u001b[37m\u001b[0m \u001b[1m0s\u001b[0m 11s/step - accuracy: 0.3357 - loss: 1.3554 \n",
      "Epoch 3: val_accuracy improved from 0.18571 to 0.22857, saving model to model_checkpoint.keras\n",
      "\u001b[1m4/4\u001b[0m \u001b[32m━━━━━━━━━━━━━━━━━━━━\u001b[0m\u001b[37m\u001b[0m \u001b[1m52s\u001b[0m 13s/step - accuracy: 0.3366 - loss: 1.3555 - val_accuracy: 0.2286 - val_loss: 1.4492\n",
      "Epoch 4/10\n",
      "\u001b[1m4/4\u001b[0m \u001b[32m━━━━━━━━━━━━━━━━━━━━\u001b[0m\u001b[37m\u001b[0m \u001b[1m0s\u001b[0m 11s/step - accuracy: 0.3395 - loss: 1.3435 \n",
      "Epoch 4: val_accuracy improved from 0.22857 to 0.27143, saving model to model_checkpoint.keras\n",
      "\u001b[1m4/4\u001b[0m \u001b[32m━━━━━━━━━━━━━━━━━━━━\u001b[0m\u001b[37m\u001b[0m \u001b[1m52s\u001b[0m 13s/step - accuracy: 0.3380 - loss: 1.3431 - val_accuracy: 0.2714 - val_loss: 1.4384\n",
      "Epoch 5/10\n",
      "\u001b[1m4/4\u001b[0m \u001b[32m━━━━━━━━━━━━━━━━━━━━\u001b[0m\u001b[37m\u001b[0m \u001b[1m0s\u001b[0m 11s/step - accuracy: 0.3710 - loss: 1.3213 \n",
      "Epoch 5: val_accuracy improved from 0.27143 to 0.34286, saving model to model_checkpoint.keras\n",
      "\u001b[1m4/4\u001b[0m \u001b[32m━━━━━━━━━━━━━━━━━━━━\u001b[0m\u001b[37m\u001b[0m \u001b[1m52s\u001b[0m 13s/step - accuracy: 0.3689 - loss: 1.3180 - val_accuracy: 0.3429 - val_loss: 1.4327\n",
      "Epoch 6/10\n",
      "\u001b[1m4/4\u001b[0m \u001b[32m━━━━━━━━━━━━━━━━━━━━\u001b[0m\u001b[37m\u001b[0m \u001b[1m0s\u001b[0m 11s/step - accuracy: 0.3418 - loss: 1.2821 \n",
      "Epoch 6: val_accuracy did not improve from 0.34286\n",
      "\u001b[1m4/4\u001b[0m \u001b[32m━━━━━━━━━━━━━━━━━━━━\u001b[0m\u001b[37m\u001b[0m \u001b[1m52s\u001b[0m 13s/step - accuracy: 0.3435 - loss: 1.2828 - val_accuracy: 0.3286 - val_loss: 1.4315\n",
      "Epoch 7/10\n",
      "\u001b[1m4/4\u001b[0m \u001b[32m━━━━━━━━━━━━━━━━━━━━\u001b[0m\u001b[37m\u001b[0m \u001b[1m0s\u001b[0m 11s/step - accuracy: 0.4021 - loss: 1.2646 \n",
      "Epoch 7: val_accuracy did not improve from 0.34286\n",
      "\u001b[1m4/4\u001b[0m \u001b[32m━━━━━━━━━━━━━━━━━━━━\u001b[0m\u001b[37m\u001b[0m \u001b[1m52s\u001b[0m 13s/step - accuracy: 0.4023 - loss: 1.2654 - val_accuracy: 0.3429 - val_loss: 1.4327\n",
      "Epoch 8/10\n",
      "\u001b[1m4/4\u001b[0m \u001b[32m━━━━━━━━━━━━━━━━━━━━\u001b[0m\u001b[37m\u001b[0m \u001b[1m0s\u001b[0m 11s/step - accuracy: 0.4455 - loss: 1.2407 \n",
      "Epoch 8: val_accuracy improved from 0.34286 to 0.35714, saving model to model_checkpoint.keras\n",
      "\u001b[1m4/4\u001b[0m \u001b[32m━━━━━━━━━━━━━━━━━━━━\u001b[0m\u001b[37m\u001b[0m \u001b[1m53s\u001b[0m 13s/step - accuracy: 0.4414 - loss: 1.2426 - val_accuracy: 0.3571 - val_loss: 1.4340\n",
      "Epoch 9/10\n",
      "\u001b[1m4/4\u001b[0m \u001b[32m━━━━━━━━━━━━━━━━━━━━\u001b[0m\u001b[37m\u001b[0m \u001b[1m0s\u001b[0m 11s/step - accuracy: 0.4084 - loss: 1.2419 \n",
      "Epoch 9: val_accuracy did not improve from 0.35714\n",
      "\u001b[1m4/4\u001b[0m \u001b[32m━━━━━━━━━━━━━━━━━━━━\u001b[0m\u001b[37m\u001b[0m \u001b[1m52s\u001b[0m 13s/step - accuracy: 0.4125 - loss: 1.2400 - val_accuracy: 0.3571 - val_loss: 1.4356\n",
      "Epoch 10/10\n",
      "\u001b[1m4/4\u001b[0m \u001b[32m━━━━━━━━━━━━━━━━━━━━\u001b[0m\u001b[37m\u001b[0m \u001b[1m0s\u001b[0m 12s/step - accuracy: 0.4193 - loss: 1.2334 \n",
      "Epoch 10: val_accuracy did not improve from 0.35714\n",
      "\u001b[1m4/4\u001b[0m \u001b[32m━━━━━━━━━━━━━━━━━━━━\u001b[0m\u001b[37m\u001b[0m \u001b[1m54s\u001b[0m 14s/step - accuracy: 0.4172 - loss: 1.2355 - val_accuracy: 0.3571 - val_loss: 1.4364\n",
      "\u001b[1m3/3\u001b[0m \u001b[32m━━━━━━━━━━━━━━━━━━━━\u001b[0m\u001b[37m\u001b[0m \u001b[1m28s\u001b[0m 8s/step - accuracy: 0.4069 - loss: 1.2454\n",
      "\n",
      "Test Accuracy: 0.41342756152153015\n"
     ]
    }
   ],
   "source": [
    "#Running the model\n",
    "\n",
    "history = model.fit(\n",
    "    train_ds,\n",
    "    validation_data=valid_ds,\n",
    "    epochs=10,  \n",
    "    callbacks=[checkpoint]\n",
    ")\n",
    "\n",
    "model.load_weights(checkpoint_path)\n",
    "\n",
    "test_loss, test_accuracy = model.evaluate(test_ds)\n",
    "print(\"\\nTest Accuracy:\", test_accuracy)"
   ]
  },
  {
   "cell_type": "code",
   "execution_count": 17,
   "id": "57b7bc1e",
   "metadata": {},
   "outputs": [
    {
     "data": {
      "text/plain": [
       "<matplotlib.legend.Legend at 0x7fae7d28d430>"
      ]
     },
     "execution_count": 17,
     "metadata": {},
     "output_type": "execute_result"
    },
    {
     "data": {
      "image/png": "[encoded data removed]",
      "text/plain": [
       "<Figure size 432x288 with 1 Axes>"
      ]
     },
     "metadata": {
      "needs_background": "light"
     },
     "output_type": "display_data"
    }
   ],
   "source": [
    "#Roc Curve for loss & Val Loss\n",
    "\n",
    "plt.plot(range(len(history.history[\"loss\"])),history.history[\"loss\"],label=\"Training Loss\")\n",
    "plt.plot(range(len(history.history[\"val_loss\"])),history.history[\"val_loss\"],label=\"Validation Loss\")\n",
    "plt.legend()"
   ]
  },
  {
   "cell_type": "code",
   "execution_count": 18,
   "id": "8d1bee56",
   "metadata": {},
   "outputs": [
    {
     "data": {
      "text/plain": [
       "<matplotlib.legend.Legend at 0x7fae7d49b940>"
      ]
     },
     "execution_count": 18,
     "metadata": {},
     "output_type": "execute_result"
    },
    {
     "data": {
      "image/png": "[encoded data removed]",
      "text/plain": [
       "<Figure size 432x288 with 1 Axes>"
      ]
     },
     "metadata": {
      "needs_background": "light"
     },
     "output_type": "display_data"
    }
   ],
   "source": [
    "#ROC Curve for accuracy & Val Accuracy\n",
    "\n",
    "plt.plot(range(len(history.history[\"accuracy\"])),history.history[\"accuracy\"],label=\"Training Loss\")\n",
    "plt.plot(range(len(history.history[\"val_accuracy\"])),history.history[\"val_accuracy\"],label=\"Validation Loss\")\n",
    "plt.legend()"
   ]
  },
  {
   "cell_type": "code",
   "execution_count": null,
   "id": "316a16cd",
   "metadata": {},
   "outputs": [],
   "source": []
  }
 ],
 "metadata": {
  "kernelspec": {
   "display_name": "Python 3 (ipykernel)",
   "language": "python",
   "name": "python3"
  },
  "language_info": {
   "codemirror_mode": {
    "name": "ipython",
    "version": 3
   },
   "file_extension": ".py",
   "mimetype": "text/x-python",
   "name": "python",
   "nbconvert_exporter": "python",
   "pygments_lexer": "ipython3",
   "version": "3.9.2"
  }
 },
 "nbformat": 4,
 "nbformat_minor": 5
}
