{
 "cells": [
  {
   "cell_type": "code",
   "execution_count": 3,
   "id": "7b26bfba",
   "metadata": {},
   "outputs": [
    {
     "name": "stderr",
     "output_type": "stream",
     "text": [
      "2024-04-25 00:12:10.237704: I tensorflow/core/platform/cpu_feature_guard.cc:210] This TensorFlow binary is optimized to use available CPU instructions in performance-critical operations.\n",
      "To enable the following instructions: AVX2 AVX512F AVX512_VNNI FMA, in other operations, rebuild TensorFlow with the appropriate compiler flags.\n"
     ]
    }
   ],
   "source": [
    "from sklearn.metrics import roc_curve, auc\n",
    "import matplotlib.pyplot as plt\n",
    "import keras"
   ]
  },
  {
   "cell_type": "code",
   "execution_count": 6,
   "id": "e71e4a5d",
   "metadata": {},
   "outputs": [
    {
     "ename": "NameError",
     "evalue": "name 'test_ds' is not defined",
     "output_type": "error",
     "traceback": [
      "\u001b[0;31m---------------------------------------------------------------------------\u001b[0m",
      "\u001b[0;31mNameError\u001b[0m                                 Traceback (most recent call last)",
      "Input \u001b[0;32mIn [6]\u001b[0m, in \u001b[0;36m<module>\u001b[0;34m\u001b[0m\n\u001b[0;32m----> 1\u001b[0m y_pred_prob_model1 \u001b[38;5;241m=\u001b[39m model1\u001b[38;5;241m.\u001b[39mpredict(\u001b[43mtest_ds\u001b[49m)\n\u001b[1;32m      2\u001b[0m fpr_model1, tpr_model1, _ \u001b[38;5;241m=\u001b[39m roc_curve(test_labels, y_pred_prob_model1)\n\u001b[1;32m      3\u001b[0m roc_auc_model1 \u001b[38;5;241m=\u001b[39m auc(fpr_model1, tpr_model1)\n",
      "\u001b[0;31mNameError\u001b[0m: name 'test_ds' is not defined"
     ]
    }
   ],
   "source": [
    "y_pred_prob_model1 = model1.predict(test_ds)\n",
    "fpr_model1, tpr_model1, _ = roc_curve(test_labels, y_pred_prob_model1)\n",
    "roc_auc_model1 = auc(fpr_model1, tpr_model1)\n",
    "\n",
    "# Predict probabilities for model 2\n",
    "y_pred_prob_model2 = model2.predict(test_ds)\n",
    "fpr_model2, tpr_model2, _ = roc_curve(test_labels, y_pred_prob_model2)\n",
    "roc_auc_model2 = auc(fpr_model2, tpr_model2)\n",
    "\n",
    "# Plot ROC curves for both models\n",
    "plt.figure(figsize=(8, 6))\n",
    "plt.plot(fpr_model1, tpr_model1, color='blue', lw=2, label='Model 1 (AUC = %0.2f)' % roc_auc_model1)\n",
    "plt.plot(fpr_model2, tpr_model2, color='red', lw=2, label='Model 2 (AUC = %0.2f)' % roc_auc_model2)\n",
    "plt.plot([0, 1], [0, 1], color='black', lw=2, linestyle='--')\n",
    "plt.xlim([0.0, 1.0])\n",
    "plt.ylim([0.0, 1.05])\n",
    "plt.xlabel('False Positive Rate')\n",
    "plt.ylabel('True Positive Rate')\n",
    "plt.title('Receiver Operating Characteristic (ROC) Curve')\n",
    "plt.legend(loc=\"lower right\")\n",
    "plt.show()"
   ]
  },
  {
   "cell_type": "code",
   "execution_count": null,
   "id": "78de5f5c",
   "metadata": {},
   "outputs": [],
   "source": []
  }
 ],
 "metadata": {
  "kernelspec": {
   "display_name": "Python 3 (ipykernel)",
   "language": "python",
   "name": "python3"
  },
  "language_info": {
   "codemirror_mode": {
    "name": "ipython",
    "version": 3
   },
   "file_extension": ".py",
   "mimetype": "text/x-python",
   "name": "python",
   "nbconvert_exporter": "python",
   "pygments_lexer": "ipython3",
   "version": "3.9.2"
  }
 },
 "nbformat": 4,
 "nbformat_minor": 5
}
