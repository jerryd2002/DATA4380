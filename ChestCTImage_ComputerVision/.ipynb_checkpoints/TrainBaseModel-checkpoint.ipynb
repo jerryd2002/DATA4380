{
 "cells": [
  {
   "cell_type": "code",
   "execution_count": 11,
   "id": "12e4a1bb",
   "metadata": {},
   "outputs": [],
   "source": [
    "#libaries\n",
    "import tensorflow as tf\n",
    "from tensorflow import keras\n",
    "from tensorflow.keras import layers\n",
    "from tensorflow.keras.applications import MobileNetV2\n",
    "from tensorflow.keras.callbacks import ModelCheckpoint\n",
    "from tensorflow.keras.utils import image_dataset_from_directory"
   ]
  },
  {
   "cell_type": "code",
   "execution_count": 18,
   "id": "337dc692",
   "metadata": {},
   "outputs": [],
   "source": [
    "#Creating/Defining Data Loader\n",
    "\n",
    "\n",
    "def create_data_loader(train_dir, test_dir, valid_dir, image_size=(224, 224), batch_size=128, limit=100):\n",
    "    train_ds = keras.utils.image_dataset_from_directory(\n",
    "        train_dir,\n",
    "        image_size=image_size,\n",
    "        batch_size=batch_size,\n",
    "        seed=1337,\n",
    "    )\n",
    "\n",
    "    test_ds = keras.utils.image_dataset_from_directory(\n",
    "        test_dir,\n",
    "        image_size=image_size,\n",
    "        batch_size=batch_size,\n",
    "    )\n",
    "\n",
    "    valid_ds = keras.utils.image_dataset_from_directory(\n",
    "        valid_dir,\n",
    "        image_size=image_size,\n",
    "        batch_size=batch_size,\n",
    "        seed=1337,\n",
    "    )\n",
    "\n",
    "    if limit:\n",
    "        train_ds = train_ds.take(limit)\n",
    "        test_ds = test_ds.take(limit)\n",
    "\n",
    "    return train_ds, test_ds, valid_ds"
   ]
  },
  {
   "cell_type": "code",
   "execution_count": 20,
   "id": "360849a4",
   "metadata": {},
   "outputs": [],
   "source": [
    "#Creating/Defining Transfer Model & the architecture of the model\n",
    "\n",
    "def create_transfer_model(input_shape, num_classes):    \n",
    "    backbone = keras.applications.MobileNetV2(\n",
    "        weights=\"imagenet\",\n",
    "        include_top=False,\n",
    "        input_shape=input_shape,\n",
    "    )\n",
    "    backbone.trainable = False\n",
    "\n",
    "#Model Architecture\n",
    "    inputs = layers.Input(input_shape)\n",
    "    x = keras.applications.mobilenet_v2.preprocess_input(inputs)\n",
    "    x = backbone(x)\n",
    "    x = layers.Dropout(0.3)(x)\n",
    "    x = layers.GlobalAveragePooling2D()(x)\n",
    "    if num_classes == 2:\n",
    "        units = 1\n",
    "    else:\n",
    "        units = num_classes\n",
    "\n",
    "    x = layers.Dropout(0.25)(x)\n",
    "    outputs = layers.Dense(units, activation=None)(x)\n",
    "\n",
    "    return keras.Model(inputs, outputs, name=\"transfer_model\")"
   ]
  },
  {
   "cell_type": "code",
   "execution_count": 6,
   "id": "9ee95088",
   "metadata": {},
   "outputs": [
    {
     "name": "stdout",
     "output_type": "stream",
     "text": [
      "Found 494 files belonging to 4 classes.\n",
      "Found 283 files belonging to 4 classes.\n",
      "Found 70 files belonging to 4 classes.\n",
      "Epoch 1/30\n",
      "\u001b[1m4/4\u001b[0m \u001b[32m━━━━━━━━━━━━━━━━━━━━\u001b[0m\u001b[37m\u001b[0m \u001b[1m0s\u001b[0m 1s/step - accuracy: 0.2842 - loss: 1.7162\n",
      "Epoch 1: val_accuracy improved from -inf to 0.28571, saving model to model_checkpoint.keras\n",
      "\u001b[1m4/4\u001b[0m \u001b[32m━━━━━━━━━━━━━━━━━━━━\u001b[0m\u001b[37m\u001b[0m \u001b[1m12s\u001b[0m 2s/step - accuracy: 0.2881 - loss: 1.7118 - val_accuracy: 0.2857 - val_loss: 1.7983\n",
      "Epoch 2/30\n",
      "\u001b[1m4/4\u001b[0m \u001b[32m━━━━━━━━━━━━━━━━━━━━\u001b[0m\u001b[37m\u001b[0m \u001b[1m0s\u001b[0m 2s/step - accuracy: 0.3453 - loss: 1.5872\n",
      "Epoch 2: val_accuracy did not improve from 0.28571\n",
      "\u001b[1m4/4\u001b[0m \u001b[32m━━━━━━━━━━━━━━━━━━━━\u001b[0m\u001b[37m\u001b[0m \u001b[1m8s\u001b[0m 2s/step - accuracy: 0.3475 - loss: 1.5881 - val_accuracy: 0.2429 - val_loss: 1.7337\n",
      "Epoch 3/30\n",
      "\u001b[1m4/4\u001b[0m \u001b[32m━━━━━━━━━━━━━━━━━━━━\u001b[0m\u001b[37m\u001b[0m \u001b[1m0s\u001b[0m 2s/step - accuracy: 0.3477 - loss: 1.5778\n",
      "Epoch 3: val_accuracy did not improve from 0.28571\n",
      "\u001b[1m4/4\u001b[0m \u001b[32m━━━━━━━━━━━━━━━━━━━━\u001b[0m\u001b[37m\u001b[0m \u001b[1m8s\u001b[0m 2s/step - accuracy: 0.3490 - loss: 1.5746 - val_accuracy: 0.2857 - val_loss: 1.6816\n",
      "Epoch 4/30\n",
      "\u001b[1m4/4\u001b[0m \u001b[32m━━━━━━━━━━━━━━━━━━━━\u001b[0m\u001b[37m\u001b[0m \u001b[1m0s\u001b[0m 2s/step - accuracy: 0.3644 - loss: 1.5124\n",
      "Epoch 4: val_accuracy improved from 0.28571 to 0.31429, saving model to model_checkpoint.keras\n",
      "\u001b[1m4/4\u001b[0m \u001b[32m━━━━━━━━━━━━━━━━━━━━\u001b[0m\u001b[37m\u001b[0m \u001b[1m8s\u001b[0m 2s/step - accuracy: 0.3648 - loss: 1.5119 - val_accuracy: 0.3143 - val_loss: 1.6387\n",
      "Epoch 5/30\n",
      "\u001b[1m4/4\u001b[0m \u001b[32m━━━━━━━━━━━━━━━━━━━━\u001b[0m\u001b[37m\u001b[0m \u001b[1m0s\u001b[0m 2s/step - accuracy: 0.4040 - loss: 1.4679\n",
      "Epoch 5: val_accuracy improved from 0.31429 to 0.32857, saving model to model_checkpoint.keras\n",
      "\u001b[1m4/4\u001b[0m \u001b[32m━━━━━━━━━━━━━━━━━━━━\u001b[0m\u001b[37m\u001b[0m \u001b[1m8s\u001b[0m 2s/step - accuracy: 0.3985 - loss: 1.4755 - val_accuracy: 0.3286 - val_loss: 1.6029\n",
      "Epoch 6/30\n",
      "\u001b[1m4/4\u001b[0m \u001b[32m━━━━━━━━━━━━━━━━━━━━\u001b[0m\u001b[37m\u001b[0m \u001b[1m0s\u001b[0m 2s/step - accuracy: 0.3542 - loss: 1.4251\n",
      "Epoch 6: val_accuracy improved from 0.32857 to 0.34286, saving model to model_checkpoint.keras\n",
      "\u001b[1m4/4\u001b[0m \u001b[32m━━━━━━━━━━━━━━━━━━━━\u001b[0m\u001b[37m\u001b[0m \u001b[1m8s\u001b[0m 2s/step - accuracy: 0.3550 - loss: 1.4226 - val_accuracy: 0.3429 - val_loss: 1.5738\n",
      "Epoch 7/30\n",
      "\u001b[1m4/4\u001b[0m \u001b[32m━━━━━━━━━━━━━━━━━━━━\u001b[0m\u001b[37m\u001b[0m \u001b[1m0s\u001b[0m 2s/step - accuracy: 0.4079 - loss: 1.3601\n",
      "Epoch 7: val_accuracy improved from 0.34286 to 0.35714, saving model to model_checkpoint.keras\n",
      "\u001b[1m4/4\u001b[0m \u001b[32m━━━━━━━━━━━━━━━━━━━━\u001b[0m\u001b[37m\u001b[0m \u001b[1m8s\u001b[0m 2s/step - accuracy: 0.4073 - loss: 1.3660 - val_accuracy: 0.3571 - val_loss: 1.5499\n",
      "Epoch 8/30\n",
      "\u001b[1m4/4\u001b[0m \u001b[32m━━━━━━━━━━━━━━━━━━━━\u001b[0m\u001b[37m\u001b[0m \u001b[1m0s\u001b[0m 2s/step - accuracy: 0.4610 - loss: 1.3265\n",
      "Epoch 8: val_accuracy did not improve from 0.35714\n",
      "\u001b[1m4/4\u001b[0m \u001b[32m━━━━━━━━━━━━━━━━━━━━\u001b[0m\u001b[37m\u001b[0m \u001b[1m8s\u001b[0m 2s/step - accuracy: 0.4559 - loss: 1.3289 - val_accuracy: 0.3286 - val_loss: 1.5297\n",
      "Epoch 9/30\n",
      "\u001b[1m4/4\u001b[0m \u001b[32m━━━━━━━━━━━━━━━━━━━━\u001b[0m\u001b[37m\u001b[0m \u001b[1m0s\u001b[0m 2s/step - accuracy: 0.3980 - loss: 1.3351\n",
      "Epoch 9: val_accuracy did not improve from 0.35714\n",
      "\u001b[1m4/4\u001b[0m \u001b[32m━━━━━━━━━━━━━━━━━━━━\u001b[0m\u001b[37m\u001b[0m \u001b[1m8s\u001b[0m 2s/step - accuracy: 0.4042 - loss: 1.3278 - val_accuracy: 0.3429 - val_loss: 1.5146\n",
      "Epoch 10/30\n",
      "\u001b[1m4/4\u001b[0m \u001b[32m━━━━━━━━━━━━━━━━━━━━\u001b[0m\u001b[37m\u001b[0m \u001b[1m0s\u001b[0m 2s/step - accuracy: 0.4381 - loss: 1.2948\n",
      "Epoch 10: val_accuracy did not improve from 0.35714\n",
      "\u001b[1m4/4\u001b[0m \u001b[32m━━━━━━━━━━━━━━━━━━━━\u001b[0m\u001b[37m\u001b[0m \u001b[1m8s\u001b[0m 2s/step - accuracy: 0.4388 - loss: 1.2931 - val_accuracy: 0.3429 - val_loss: 1.5017\n",
      "Epoch 11/30\n",
      "\u001b[1m4/4\u001b[0m \u001b[32m━━━━━━━━━━━━━━━━━━━━\u001b[0m\u001b[37m\u001b[0m \u001b[1m0s\u001b[0m 2s/step - accuracy: 0.3799 - loss: 1.3647\n",
      "Epoch 11: val_accuracy did not improve from 0.35714\n",
      "\u001b[1m4/4\u001b[0m \u001b[32m━━━━━━━━━━━━━━━━━━━━\u001b[0m\u001b[37m\u001b[0m \u001b[1m8s\u001b[0m 2s/step - accuracy: 0.3865 - loss: 1.3539 - val_accuracy: 0.3286 - val_loss: 1.4892\n",
      "Epoch 12/30\n",
      "\u001b[1m4/4\u001b[0m \u001b[32m━━━━━━━━━━━━━━━━━━━━\u001b[0m\u001b[37m\u001b[0m \u001b[1m0s\u001b[0m 2s/step - accuracy: 0.4661 - loss: 1.2303\n",
      "Epoch 12: val_accuracy did not improve from 0.35714\n",
      "\u001b[1m4/4\u001b[0m \u001b[32m━━━━━━━━━━━━━━━━━━━━\u001b[0m\u001b[37m\u001b[0m \u001b[1m8s\u001b[0m 2s/step - accuracy: 0.4648 - loss: 1.2356 - val_accuracy: 0.3286 - val_loss: 1.4781\n",
      "Epoch 13/30\n",
      "\u001b[1m4/4\u001b[0m \u001b[32m━━━━━━━━━━━━━━━━━━━━\u001b[0m\u001b[37m\u001b[0m \u001b[1m0s\u001b[0m 2s/step - accuracy: 0.4385 - loss: 1.2508\n",
      "Epoch 13: val_accuracy did not improve from 0.35714\n",
      "\u001b[1m4/4\u001b[0m \u001b[32m━━━━━━━━━━━━━━━━━━━━\u001b[0m\u001b[37m\u001b[0m \u001b[1m8s\u001b[0m 2s/step - accuracy: 0.4399 - loss: 1.2507 - val_accuracy: 0.3429 - val_loss: 1.4659\n",
      "Epoch 14/30\n",
      "\u001b[1m4/4\u001b[0m \u001b[32m━━━━━━━━━━━━━━━━━━━━\u001b[0m\u001b[37m\u001b[0m \u001b[1m0s\u001b[0m 2s/step - accuracy: 0.4426 - loss: 1.2616\n",
      "Epoch 14: val_accuracy did not improve from 0.35714\n",
      "\u001b[1m4/4\u001b[0m \u001b[32m━━━━━━━━━━━━━━━━━━━━\u001b[0m\u001b[37m\u001b[0m \u001b[1m8s\u001b[0m 2s/step - accuracy: 0.4416 - loss: 1.2648 - val_accuracy: 0.3429 - val_loss: 1.4524\n",
      "Epoch 15/30\n",
      "\u001b[1m4/4\u001b[0m \u001b[32m━━━━━━━━━━━━━━━━━━━━\u001b[0m\u001b[37m\u001b[0m \u001b[1m0s\u001b[0m 2s/step - accuracy: 0.4567 - loss: 1.2338\n",
      "Epoch 15: val_accuracy did not improve from 0.35714\n",
      "\u001b[1m4/4\u001b[0m \u001b[32m━━━━━━━━━━━━━━━━━━━━\u001b[0m\u001b[37m\u001b[0m \u001b[1m8s\u001b[0m 2s/step - accuracy: 0.4544 - loss: 1.2339 - val_accuracy: 0.3286 - val_loss: 1.4399\n",
      "Epoch 16/30\n",
      "\u001b[1m4/4\u001b[0m \u001b[32m━━━━━━━━━━━━━━━━━━━━\u001b[0m\u001b[37m\u001b[0m \u001b[1m0s\u001b[0m 2s/step - accuracy: 0.4786 - loss: 1.2200\n",
      "Epoch 16: val_accuracy did not improve from 0.35714\n",
      "\u001b[1m4/4\u001b[0m \u001b[32m━━━━━━━━━━━━━━━━━━━━\u001b[0m\u001b[37m\u001b[0m \u001b[1m8s\u001b[0m 2s/step - accuracy: 0.4772 - loss: 1.2231 - val_accuracy: 0.3286 - val_loss: 1.4280\n",
      "Epoch 17/30\n",
      "\u001b[1m4/4\u001b[0m \u001b[32m━━━━━━━━━━━━━━━━━━━━\u001b[0m\u001b[37m\u001b[0m \u001b[1m0s\u001b[0m 2s/step - accuracy: 0.4787 - loss: 1.1884\n",
      "Epoch 17: val_accuracy did not improve from 0.35714\n",
      "\u001b[1m4/4\u001b[0m \u001b[32m━━━━━━━━━━━━━━━━━━━━\u001b[0m\u001b[37m\u001b[0m \u001b[1m8s\u001b[0m 2s/step - accuracy: 0.4761 - loss: 1.1942 - val_accuracy: 0.3286 - val_loss: 1.4171\n",
      "Epoch 18/30\n",
      "\u001b[1m4/4\u001b[0m \u001b[32m━━━━━━━━━━━━━━━━━━━━\u001b[0m\u001b[37m\u001b[0m \u001b[1m0s\u001b[0m 2s/step - accuracy: 0.4690 - loss: 1.1941\n",
      "Epoch 18: val_accuracy did not improve from 0.35714\n",
      "\u001b[1m4/4\u001b[0m \u001b[32m━━━━━━━━━━━━━━━━━━━━\u001b[0m\u001b[37m\u001b[0m \u001b[1m8s\u001b[0m 2s/step - accuracy: 0.4691 - loss: 1.1955 - val_accuracy: 0.3429 - val_loss: 1.4054\n",
      "Epoch 19/30\n",
      "\u001b[1m4/4\u001b[0m \u001b[32m━━━━━━━━━━━━━━━━━━━━\u001b[0m\u001b[37m\u001b[0m \u001b[1m0s\u001b[0m 2s/step - accuracy: 0.4767 - loss: 1.2006\n",
      "Epoch 19: val_accuracy did not improve from 0.35714\n",
      "\u001b[1m4/4\u001b[0m \u001b[32m━━━━━━━━━━━━━━━━━━━━\u001b[0m\u001b[37m\u001b[0m \u001b[1m8s\u001b[0m 2s/step - accuracy: 0.4765 - loss: 1.2028 - val_accuracy: 0.3429 - val_loss: 1.3932\n",
      "Epoch 20/30\n",
      "\u001b[1m4/4\u001b[0m \u001b[32m━━━━━━━━━━━━━━━━━━━━\u001b[0m\u001b[37m\u001b[0m \u001b[1m0s\u001b[0m 2s/step - accuracy: 0.5092 - loss: 1.1292\n",
      "Epoch 20: val_accuracy did not improve from 0.35714\n",
      "\u001b[1m4/4\u001b[0m \u001b[32m━━━━━━━━━━━━━━━━━━━━\u001b[0m\u001b[37m\u001b[0m \u001b[1m8s\u001b[0m 2s/step - accuracy: 0.5081 - loss: 1.1341 - val_accuracy: 0.3571 - val_loss: 1.3788\n",
      "Epoch 21/30\n",
      "\u001b[1m4/4\u001b[0m \u001b[32m━━━━━━━━━━━━━━━━━━━━\u001b[0m\u001b[37m\u001b[0m \u001b[1m0s\u001b[0m 2s/step - accuracy: 0.4627 - loss: 1.2153\n",
      "Epoch 21: val_accuracy did not improve from 0.35714\n",
      "\u001b[1m4/4\u001b[0m \u001b[32m━━━━━━━━━━━━━━━━━━━━\u001b[0m\u001b[37m\u001b[0m \u001b[1m8s\u001b[0m 2s/step - accuracy: 0.4706 - loss: 1.2034 - val_accuracy: 0.3571 - val_loss: 1.3652\n",
      "Epoch 22/30\n",
      "\u001b[1m4/4\u001b[0m \u001b[32m━━━━━━━━━━━━━━━━━━━━\u001b[0m\u001b[37m\u001b[0m \u001b[1m0s\u001b[0m 2s/step - accuracy: 0.4931 - loss: 1.1380\n",
      "Epoch 22: val_accuracy did not improve from 0.35714\n",
      "\u001b[1m4/4\u001b[0m \u001b[32m━━━━━━━━━━━━━━━━━━━━\u001b[0m\u001b[37m\u001b[0m \u001b[1m8s\u001b[0m 2s/step - accuracy: 0.4929 - loss: 1.1372 - val_accuracy: 0.3571 - val_loss: 1.3512\n",
      "Epoch 23/30\n",
      "\u001b[1m4/4\u001b[0m \u001b[32m━━━━━━━━━━━━━━━━━━━━\u001b[0m\u001b[37m\u001b[0m \u001b[1m0s\u001b[0m 2s/step - accuracy: 0.5187 - loss: 1.1351\n",
      "Epoch 23: val_accuracy did not improve from 0.35714\n",
      "\u001b[1m4/4\u001b[0m \u001b[32m━━━━━━━━━━━━━━━━━━━━\u001b[0m\u001b[37m\u001b[0m \u001b[1m8s\u001b[0m 2s/step - accuracy: 0.5154 - loss: 1.1409 - val_accuracy: 0.3571 - val_loss: 1.3401\n",
      "Epoch 24/30\n",
      "\u001b[1m4/4\u001b[0m \u001b[32m━━━━━━━━━━━━━━━━━━━━\u001b[0m\u001b[37m\u001b[0m \u001b[1m0s\u001b[0m 2s/step - accuracy: 0.4754 - loss: 1.1864\n",
      "Epoch 24: val_accuracy did not improve from 0.35714\n",
      "\u001b[1m4/4\u001b[0m \u001b[32m━━━━━━━━━━━━━━━━━━━━\u001b[0m\u001b[37m\u001b[0m \u001b[1m8s\u001b[0m 2s/step - accuracy: 0.4799 - loss: 1.1800 - val_accuracy: 0.3286 - val_loss: 1.3267\n",
      "Epoch 25/30\n",
      "\u001b[1m4/4\u001b[0m \u001b[32m━━━━━━━━━━━━━━━━━━━━\u001b[0m\u001b[37m\u001b[0m \u001b[1m0s\u001b[0m 2s/step - accuracy: 0.4878 - loss: 1.1623\n",
      "Epoch 25: val_accuracy did not improve from 0.35714\n",
      "\u001b[1m4/4\u001b[0m \u001b[32m━━━━━━━━━━━━━━━━━━━━\u001b[0m\u001b[37m\u001b[0m \u001b[1m8s\u001b[0m 2s/step - accuracy: 0.4879 - loss: 1.1552 - val_accuracy: 0.3143 - val_loss: 1.3133\n",
      "Epoch 26/30\n",
      "\u001b[1m4/4\u001b[0m \u001b[32m━━━━━━━━━━━━━━━━━━━━\u001b[0m\u001b[37m\u001b[0m \u001b[1m0s\u001b[0m 2s/step - accuracy: 0.5426 - loss: 1.0347\n",
      "Epoch 26: val_accuracy did not improve from 0.35714\n",
      "\u001b[1m4/4\u001b[0m \u001b[32m━━━━━━━━━━━━━━━━━━━━\u001b[0m\u001b[37m\u001b[0m \u001b[1m8s\u001b[0m 2s/step - accuracy: 0.5361 - loss: 1.0448 - val_accuracy: 0.3286 - val_loss: 1.3019\n",
      "Epoch 27/30\n",
      "\u001b[1m4/4\u001b[0m \u001b[32m━━━━━━━━━━━━━━━━━━━━\u001b[0m\u001b[37m\u001b[0m \u001b[1m0s\u001b[0m 2s/step - accuracy: 0.5365 - loss: 1.0756\n",
      "Epoch 27: val_accuracy did not improve from 0.35714\n",
      "\u001b[1m4/4\u001b[0m \u001b[32m━━━━━━━━━━━━━━━━━━━━\u001b[0m\u001b[37m\u001b[0m \u001b[1m8s\u001b[0m 2s/step - accuracy: 0.5328 - loss: 1.0776 - val_accuracy: 0.3286 - val_loss: 1.2874\n",
      "Epoch 28/30\n",
      "\u001b[1m4/4\u001b[0m \u001b[32m━━━━━━━━━━━━━━━━━━━━\u001b[0m\u001b[37m\u001b[0m \u001b[1m0s\u001b[0m 2s/step - accuracy: 0.5218 - loss: 1.0613\n",
      "Epoch 28: val_accuracy did not improve from 0.35714\n",
      "\u001b[1m4/4\u001b[0m \u001b[32m━━━━━━━━━━━━━━━━━━━━\u001b[0m\u001b[37m\u001b[0m \u001b[1m8s\u001b[0m 2s/step - accuracy: 0.5174 - loss: 1.0690 - val_accuracy: 0.3286 - val_loss: 1.2750\n",
      "Epoch 29/30\n",
      "\u001b[1m4/4\u001b[0m \u001b[32m━━━━━━━━━━━━━━━━━━━━\u001b[0m\u001b[37m\u001b[0m \u001b[1m0s\u001b[0m 2s/step - accuracy: 0.5368 - loss: 1.0758\n",
      "Epoch 29: val_accuracy did not improve from 0.35714\n",
      "\u001b[1m4/4\u001b[0m \u001b[32m━━━━━━━━━━━━━━━━━━━━\u001b[0m\u001b[37m\u001b[0m \u001b[1m8s\u001b[0m 2s/step - accuracy: 0.5367 - loss: 1.0745 - val_accuracy: 0.3571 - val_loss: 1.2636\n",
      "Epoch 30/30\n",
      "\u001b[1m4/4\u001b[0m \u001b[32m━━━━━━━━━━━━━━━━━━━━\u001b[0m\u001b[37m\u001b[0m \u001b[1m0s\u001b[0m 2s/step - accuracy: 0.4937 - loss: 1.0918\n",
      "Epoch 30: val_accuracy did not improve from 0.35714\n",
      "\u001b[1m4/4\u001b[0m \u001b[32m━━━━━━━━━━━━━━━━━━━━\u001b[0m\u001b[37m\u001b[0m \u001b[1m8s\u001b[0m 2s/step - accuracy: 0.5007 - loss: 1.0866 - val_accuracy: 0.3571 - val_loss: 1.2501\n",
      "\u001b[1m3/3\u001b[0m \u001b[32m━━━━━━━━━━━━━━━━━━━━\u001b[0m\u001b[37m\u001b[0m \u001b[1m4s\u001b[0m 1s/step - accuracy: 0.3587 - loss: 1.4774\n",
      "\n",
      "Test Accuracy: 0.36395758390426636\n"
     ]
    }
   ],
   "source": [
    "#MobileNet Model\n",
    "\n",
    "train_dir = 'Data/Train'\n",
    "test_dir = 'Data/Test'\n",
    "valid_dir = 'Data/Valid'\n",
    "\n",
    "train_ds, test_ds, valid_ds = create_data_loader(train_dir, test_dir, valid_dir, limit=100)\n",
    "\n",
    "# Define model checkpoint\n",
    "checkpoint_path = \"model_checkpoint.keras\"\n",
    "checkpoint = keras.callbacks.ModelCheckpoint(checkpoint_path, \n",
    "                                             monitor='val_accuracy', \n",
    "                                             verbose=1, \n",
    "                                             save_best_only=True,\n",
    "                                             mode='max')\n",
    "\n",
    "input_shape = (224, 224, 3)\n",
    "num_classes = 4  \n",
    "model = create_transfer_model(input_shape, num_classes)\n",
    "model.compile(\n",
    "    optimizer=keras.optimizers.Adam(learning_rate=0.0001),\n",
    "    loss=keras.losses.SparseCategoricalCrossentropy(from_logits=True),\n",
    "    metrics=['accuracy']\n",
    ")\n",
    "\n",
    "# Train the model\n",
    "history = model.fit(\n",
    "    train_ds,\n",
    "    validation_data=valid_ds,\n",
    "    epochs=30,  \n",
    "    callbacks=[checkpoint]\n",
    ")\n",
    "\n",
    "model.load_weights(checkpoint_path)\n",
    "\n",
    "test_loss, test_accuracy = model.evaluate(test_ds)\n",
    "print(\"\\nTest Accuracy:\", test_accuracy)"
   ]
  },
  {
   "cell_type": "code",
   "execution_count": 7,
   "id": "ee10dd89",
   "metadata": {},
   "outputs": [
    {
     "data": {
      "text/plain": [
       "<matplotlib.legend.Legend at 0x7f8ffa5be220>"
      ]
     },
     "execution_count": 7,
     "metadata": {},
     "output_type": "execute_result"
    },
    {
     "data": {
      "image/png": "[encoded data removed]",
      "text/plain": [
       "<Figure size 432x288 with 1 Axes>"
      ]
     },
     "metadata": {
      "needs_background": "light"
     },
     "output_type": "display_data"
    }
   ],
   "source": [
    "#Roc Curve for loss & Val Loss\n",
    "\n",
    "plt.plot(range(len(history.history[\"loss\"])),history.history[\"loss\"],label=\"Training Loss\")\n",
    "plt.plot(range(len(history.history[\"val_loss\"])),history.history[\"val_loss\"],label=\"Validation Loss\")\n",
    "plt.legend()"
   ]
  },
  {
   "cell_type": "code",
   "execution_count": 8,
   "id": "0f67816d",
   "metadata": {},
   "outputs": [
    {
     "data": {
      "text/plain": [
       "<matplotlib.legend.Legend at 0x7f8ffa51efd0>"
      ]
     },
     "execution_count": 8,
     "metadata": {},
     "output_type": "execute_result"
    },
    {
     "data": {
      "image/png": "[encoded data removed]",
      "text/plain": [
       "<Figure size 432x288 with 1 Axes>"
      ]
     },
     "metadata": {
      "needs_background": "light"
     },
     "output_type": "display_data"
    }
   ],
   "source": [
    "#ROC Curve for accuracy & Val Accuracy\n",
    "\n",
    "plt.plot(range(len(history.history[\"accuracy\"])),history.history[\"accuracy\"],label=\"Training Loss\")\n",
    "plt.plot(range(len(history.history[\"val_accuracy\"])),history.history[\"val_accuracy\"],label=\"Validation Loss\")\n",
    "plt.legend()"
   ]
  },
  {
   "cell_type": "code",
   "execution_count": 10,
   "id": "388b4e83",
   "metadata": {},
   "outputs": [],
   "source": [
    "#Saving model 1\n",
    "model.save('my_model1.keras')"
   ]
  },
  {
   "cell_type": "code",
   "execution_count": null,
   "id": "9939e8c0",
   "metadata": {},
   "outputs": [],
   "source": []
  }
 ],
 "metadata": {
  "kernelspec": {
   "display_name": "Python 3 (ipykernel)",
   "language": "python",
   "name": "python3"
  },
  "language_info": {
   "codemirror_mode": {
    "name": "ipython",
    "version": 3
   },
   "file_extension": ".py",
   "mimetype": "text/x-python",
   "name": "python",
   "nbconvert_exporter": "python",
   "pygments_lexer": "ipython3",
   "version": "3.9.2"
  }
 },
 "nbformat": 4,
 "nbformat_minor": 5
}
