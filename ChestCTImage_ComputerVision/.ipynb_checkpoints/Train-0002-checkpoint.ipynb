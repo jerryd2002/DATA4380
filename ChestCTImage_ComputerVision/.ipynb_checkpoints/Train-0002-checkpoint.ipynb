{
 "cells": [
  {
   "cell_type": "code",
   "execution_count": 54,
   "id": "cce564e6",
   "metadata": {},
   "outputs": [],
   "source": [
    "#libaries\n",
    "\n",
    "import tensorflow as tf\n",
    "from tensorflow import keras\n",
    "from tensorflow.keras import layers\n",
    "from tensorflow.keras.applications import InceptionV3\n",
    "from tensorflow.keras.callbacks import ModelCheckpoint\n",
    "from tensorflow.keras.utils import image_dataset_from_directory\n"
   ]
  },
  {
   "cell_type": "code",
   "execution_count": 48,
   "id": "9add2372",
   "metadata": {},
   "outputs": [],
   "source": [
    "#Creating/Defining Data Loader\n",
    "\n",
    "def create_data_loader(train_dir, test_dir, valid_dir, image_size=(299, 299), batch_size=32, limit=None):\n",
    "    train_ds = image_dataset_from_directory(\n",
    "        train_dir,\n",
    "        image_size=image_size,\n",
    "        batch_size=batch_size,\n",
    "        seed=1337,\n",
    "    )\n",
    "    \n",
    "    test_ds = image_dataset_from_directory(\n",
    "        test_dir,\n",
    "        image_size=image_size,\n",
    "        batch_size=batch_size,\n",
    "    )\n",
    "    \n",
    "    valid_ds = image_dataset_from_directory(\n",
    "        valid_dir,\n",
    "        image_size=image_size,\n",
    "        batch_size=batch_size,\n",
    "        seed=1337,\n",
    "    )\n",
    "    \n",
    "    if limit:\n",
    "        train_ds = train_ds.take(limit)\n",
    "        test_ds = test_ds.take(limit)\n",
    "        valid_ds = valid_ds.take(limit)\n",
    "\n",
    "    return train_ds, test_ds, valid_ds\n"
   ]
  },
  {
   "cell_type": "code",
   "execution_count": 49,
   "id": "b63e3634",
   "metadata": {},
   "outputs": [],
   "source": [
    "#Creating/Defining Transfer Model & the architecture of the model\n",
    "\n",
    "def create_transfer_model(input_shape, num_classes):\n",
    "    backbone = InceptionV3(\n",
    "        weights=\"imagenet\",\n",
    "        include_top=False,\n",
    "        input_shape=input_shape,\n",
    "    )\n",
    "    backbone.trainable = False\n",
    "\n",
    "    inputs = layers.Input(shape=input_shape)\n",
    "    x = keras.applications.inception_v3.preprocess_input(inputs)\n",
    "    x = backbone(x, training=False) \n",
    "    x = layers.GlobalAveragePooling2D()(x)\n",
    "    x = layers.Dropout(0.5)(x)\n",
    "    outputs = layers.Dense(num_classes, activation='softmax')(x)\n",
    "\n",
    "    return keras.Model(inputs, outputs, name=\"transfer_model\")\n"
   ]
  },
  {
   "cell_type": "code",
   "execution_count": 51,
   "id": "17bf6840",
   "metadata": {},
   "outputs": [
    {
     "name": "stdout",
     "output_type": "stream",
     "text": [
      "Found 494 files belonging to 4 classes.\n",
      "Found 283 files belonging to 4 classes.\n",
      "Found 70 files belonging to 4 classes.\n",
      "Downloading data from https://storage.googleapis.com/tensorflow/keras-applications/inception_v3/inception_v3_weights_tf_dim_ordering_tf_kernels_notop.h5\n",
      "\u001b[1m87910968/87910968\u001b[0m \u001b[32m━━━━━━━━━━━━━━━━━━━━\u001b[0m\u001b[37m\u001b[0m \u001b[1m3s\u001b[0m 0us/step\n",
      "Epoch 1/10\n",
      "\u001b[1m16/16\u001b[0m \u001b[32m━━━━━━━━━━━━━━━━━━━━\u001b[0m\u001b[37m\u001b[0m \u001b[1m36s\u001b[0m 2s/step - accuracy: 0.3136 - loss: 1.5627 - val_accuracy: 0.3571 - val_loss: 1.4125\n",
      "Epoch 2/10\n",
      "\u001b[1m16/16\u001b[0m \u001b[32m━━━━━━━━━━━━━━━━━━━━\u001b[0m\u001b[37m\u001b[0m \u001b[1m32s\u001b[0m 2s/step - accuracy: 0.4193 - loss: 1.2357 - val_accuracy: 0.3429 - val_loss: 1.2374\n",
      "Epoch 3/10\n",
      "\u001b[1m16/16\u001b[0m \u001b[32m━━━━━━━━━━━━━━━━━━━━\u001b[0m\u001b[37m\u001b[0m \u001b[1m33s\u001b[0m 2s/step - accuracy: 0.4517 - loss: 1.1123 - val_accuracy: 0.4286 - val_loss: 1.1260\n",
      "Epoch 4/10\n",
      "\u001b[1m16/16\u001b[0m \u001b[32m━━━━━━━━━━━━━━━━━━━━\u001b[0m\u001b[37m\u001b[0m \u001b[1m32s\u001b[0m 2s/step - accuracy: 0.5274 - loss: 1.0280 - val_accuracy: 0.5143 - val_loss: 1.0346\n",
      "Epoch 5/10\n",
      "\u001b[1m16/16\u001b[0m \u001b[32m━━━━━━━━━━━━━━━━━━━━\u001b[0m\u001b[37m\u001b[0m \u001b[1m31s\u001b[0m 2s/step - accuracy: 0.6117 - loss: 0.9346 - val_accuracy: 0.4571 - val_loss: 1.1543\n",
      "Epoch 6/10\n",
      "\u001b[1m16/16\u001b[0m \u001b[32m━━━━━━━━━━━━━━━━━━━━\u001b[0m\u001b[37m\u001b[0m \u001b[1m31s\u001b[0m 2s/step - accuracy: 0.5928 - loss: 0.9294 - val_accuracy: 0.5571 - val_loss: 0.9586\n",
      "Epoch 7/10\n",
      "\u001b[1m16/16\u001b[0m \u001b[32m━━━━━━━━━━━━━━━━━━━━\u001b[0m\u001b[37m\u001b[0m \u001b[1m31s\u001b[0m 2s/step - accuracy: 0.6297 - loss: 0.8320 - val_accuracy: 0.5571 - val_loss: 0.9825\n",
      "Epoch 8/10\n",
      "\u001b[1m16/16\u001b[0m \u001b[32m━━━━━━━━━━━━━━━━━━━━\u001b[0m\u001b[37m\u001b[0m \u001b[1m31s\u001b[0m 2s/step - accuracy: 0.6354 - loss: 0.8773 - val_accuracy: 0.5429 - val_loss: 0.9754\n",
      "Epoch 9/10\n",
      "\u001b[1m16/16\u001b[0m \u001b[32m━━━━━━━━━━━━━━━━━━━━\u001b[0m\u001b[37m\u001b[0m \u001b[1m31s\u001b[0m 2s/step - accuracy: 0.6725 - loss: 0.7661 - val_accuracy: 0.5857 - val_loss: 0.9585\n",
      "Epoch 10/10\n",
      "\u001b[1m16/16\u001b[0m \u001b[32m━━━━━━━━━━━━━━━━━━━━\u001b[0m\u001b[37m\u001b[0m \u001b[1m31s\u001b[0m 2s/step - accuracy: 0.6676 - loss: 0.7447 - val_accuracy: 0.5571 - val_loss: 0.9349\n",
      "\u001b[1m9/9\u001b[0m \u001b[32m━━━━━━━━━━━━━━━━━━━━\u001b[0m\u001b[37m\u001b[0m \u001b[1m16s\u001b[0m 2s/step - accuracy: 0.6562 - loss: 0.8238\n",
      "Test Accuracy: 0.6289752721786499\n"
     ]
    }
   ],
   "source": [
    "#Compiling model, creating checkpoints, and running the mode on our dataset\n",
    "\n",
    "train_dir = 'Data/Train'\n",
    "test_dir = 'Data/Test'\n",
    "valid_dir = 'Data/Valid'\n",
    "\n",
    "train_ds, test_ds, valid_ds = create_data_loader(train_dir, test_dir, valid_dir, limit=None)\n",
    "\n",
    "input_shape = (299, 299, 3) \n",
    "num_classes = 4\n",
    "\n",
    "model = create_transfer_model(input_shape, num_classes)\n",
    "model.compile(\n",
    "    optimizer='adam',\n",
    "    loss='sparse_categorical_crossentropy', \n",
    "    metrics=['accuracy']\n",
    ")\n",
    "\n",
    "checkpoint = ModelCheckpoint(\"inceptionv3_model_checkpoint.keras\", save_best_only=True, monitor='val_accuracy', mode='max')\n",
    "history = model.fit(\n",
    "    train_ds,\n",
    "    validation_data=valid_ds,\n",
    "    epochs=10,\n",
    "    callbacks=[checkpoint]\n",
    ")\n",
    "\n",
    "model.load_weights(\"inceptionv3_model_checkpoint.keras\")\n",
    "test_loss, test_accuracy = model.evaluate(test_ds)\n",
    "print(\"Test Accuracy:\", test_accuracy)\n"
   ]
  },
  {
   "cell_type": "code",
   "execution_count": 52,
   "id": "373ef56a",
   "metadata": {},
   "outputs": [
    {
     "data": {
      "text/plain": [
       "<matplotlib.legend.Legend at 0x7fa2ee03b730>"
      ]
     },
     "execution_count": 52,
     "metadata": {},
     "output_type": "execute_result"
    },
    {
     "data": {
      "image/png": "[encoded data removed]",
      "text/plain": [
       "<Figure size 432x288 with 1 Axes>"
      ]
     },
     "metadata": {
      "needs_background": "light"
     },
     "output_type": "display_data"
    }
   ],
   "source": [
    "#Roc Curve for loss & Val Loss\n",
    "\n",
    "plt.plot(range(len(history.history[\"loss\"])),history.history[\"loss\"],label=\"Training Loss\")\n",
    "plt.plot(range(len(history.history[\"val_loss\"])),history.history[\"val_loss\"],label=\"Validation Loss\")\n",
    "plt.legend()"
   ]
  },
  {
   "cell_type": "code",
   "execution_count": 53,
   "id": "10bbcc0d",
   "metadata": {},
   "outputs": [
    {
     "data": {
      "text/plain": [
       "<matplotlib.legend.Legend at 0x7fa2ed640280>"
      ]
     },
     "execution_count": 53,
     "metadata": {},
     "output_type": "execute_result"
    },
    {
     "data": {
      "image/png": "[encoded data removed]",
      "text/plain": [
       "<Figure size 432x288 with 1 Axes>"
      ]
     },
     "metadata": {
      "needs_background": "light"
     },
     "output_type": "display_data"
    }
   ],
   "source": [
    "#ROC Curve for accuracy & Val Accuracy\n",
    "\n",
    "plt.plot(range(len(history.history[\"accuracy\"])),history.history[\"accuracy\"],label=\"Training Loss\")\n",
    "plt.plot(range(len(history.history[\"val_accuracy\"])),history.history[\"val_accuracy\"],label=\"Validation Loss\")\n",
    "plt.legend()"
   ]
  },
  {
   "cell_type": "code",
   "execution_count": null,
   "id": "8d1c064d",
   "metadata": {},
   "outputs": [],
   "source": []
  }
 ],
 "metadata": {
  "kernelspec": {
   "display_name": "Python 3 (ipykernel)",
   "language": "python",
   "name": "python3"
  },
  "language_info": {
   "codemirror_mode": {
    "name": "ipython",
    "version": 3
   },
   "file_extension": ".py",
   "mimetype": "text/x-python",
   "name": "python",
   "nbconvert_exporter": "python",
   "pygments_lexer": "ipython3",
   "version": "3.9.2"
  }
 },
 "nbformat": 4,
 "nbformat_minor": 5
}
